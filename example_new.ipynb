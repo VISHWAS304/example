{
 "cells": [
  {
   "cell_type": "code",
   "execution_count": 1,
   "id": "b153bf2e",
   "metadata": {},
   "outputs": [],
   "source": [
    "def myfunc(a,b):\n",
    "    return a+b"
   ]
  },
  {
   "cell_type": "code",
   "execution_count": 2,
   "id": "6fc5af6f",
   "metadata": {},
   "outputs": [],
   "source": [
    "def sum(c,d):\n",
    "    return(a+b)"
   ]
  },
  {
   "cell_type": "code",
   "execution_count": 3,
   "id": "dfa68a62",
   "metadata": {},
   "outputs": [],
   "source": [
    "def abc(ght):\n",
    "    return k+s"
   ]
  },
  {
   "cell_type": "code",
   "execution_count": null,
   "id": "5de73c62",
   "metadata": {},
   "outputs": [],
   "source": []
  }
 ],
 "metadata": {
  "kernelspec": {
   "display_name": "Python 3 (ipykernel)",
   "language": "python",
   "name": "python3"
  },
  "language_info": {
   "codemirror_mode": {
    "name": "ipython",
    "version": 3
   },
   "file_extension": ".py",
   "mimetype": "text/x-python",
   "name": "python",
   "nbconvert_exporter": "python",
   "pygments_lexer": "ipython3",
   "version": "3.9.12"
  }
 },
 "nbformat": 4,
 "nbformat_minor": 5
}
